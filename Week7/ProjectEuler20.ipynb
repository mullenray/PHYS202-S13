{
 "metadata": {
  "name": "ProjectEuler20"
 },
 "nbformat": 3,
 "nbformat_minor": 0,
 "worksheets": [
  {
   "cells": [
    {
     "cell_type": "markdown",
     "metadata": {},
     "source": [
      "Factorial Digit Sum\n",
      "=\n",
      "Problem 20\n",
      "-\n",
      "\n",
      "$n!$ means n $\\*$ (n - 1) $\\*$ ... $\\*$ 3 $\\*$ 2 $\\*$ 1\n",
      "\n",
      "For example, $10!$ = 10 $\\*$ 9 $\\*$ ... $\\*$ 3 $\\*$ 2 $\\*$ 1 = 3628800,\n",
      "and the sum of the digits in the number 10! is 3 + 6 + 2 + 8 + 8 + 0 + 0 = 27.\n",
      "\n",
      "Find the sum of the digits in the number 100!"
     ]
    },
    {
     "cell_type": "markdown",
     "metadata": {},
     "source": [
      "Test case using the information given: Find the sum of the digits in 10!"
     ]
    },
    {
     "cell_type": "code",
     "collapsed": false,
     "input": [
      "n = 10   #The number to find the factorial of\n",
      "sumfacdig = 0  #Initial value for the sum of the digits in the factorial\n",
      "fac = 1  #Initial value for the factorial\n",
      "for i in range(1, n + 1):\n",
      "    fac *= i  #Finding n!\n",
      "for i in str(fac):\n",
      "    sumfacdig += int(i)  #Summing the digits in n!\n",
      "print fac    \n",
      "print sumfacdig  #Print the answer"
     ],
     "language": "python",
     "metadata": {},
     "outputs": [
      {
       "output_type": "stream",
       "stream": "stdout",
       "text": [
        "3628800\n",
        "27\n"
       ]
      }
     ],
     "prompt_number": 4
    },
    {
     "cell_type": "markdown",
     "metadata": {},
     "source": [
      "Matching the information given: 10! is 3,628,800 and the sum of those digits in 27."
     ]
    },
    {
     "cell_type": "code",
     "collapsed": false,
     "input": [
      "n = 100   #The number to find the factorial of\n",
      "sumfacdig = 0  #Initial value for the sum of the digits in the factorial\n",
      "fac = 1  #Initial value for the factorial\n",
      "for i in range(1, n + 1):\n",
      "    fac *= i  #Finding n!\n",
      "for i in str(fac):\n",
      "    sumfacdig += int(i)  #Summing the digits in n!\n",
      "\n",
      "print sumfacdig  #Print the answer"
     ],
     "language": "python",
     "metadata": {},
     "outputs": [
      {
       "output_type": "stream",
       "stream": "stdout",
       "text": [
        "648\n"
       ]
      }
     ],
     "prompt_number": 6
    },
    {
     "cell_type": "markdown",
     "metadata": {},
     "source": [
      "The sum of the digits in 100! is 648."
     ]
    },
    {
     "cell_type": "code",
     "collapsed": false,
     "input": [],
     "language": "python",
     "metadata": {},
     "outputs": []
    }
   ],
   "metadata": {}
  }
 ]
}