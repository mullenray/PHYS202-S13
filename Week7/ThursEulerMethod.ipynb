{
 "metadata": {
  "name": "ThursEulerMethod"
 },
 "nbformat": 3,
 "nbformat_minor": 0,
 "worksheets": [
  {
   "cells": [
    {
     "cell_type": "markdown",
     "metadata": {},
     "source": [
      "Euler Method\n",
      "=\n",
      "Example 1: Free-fall\n",
      "-"
     ]
    },
    {
     "cell_type": "code",
     "collapsed": false,
     "input": [
      "a = -9.8\n",
      "vprev = 3  #initial velocity\n",
      "rprev = 1000  #initial position\n",
      "ti = 0.0  #initial time\n",
      "tf = 5.0  #final time\n",
      "n = 100  #number of steps\n",
      "dt = (tf - ti) / n  #step time interval\n",
      "for i in arange(ti, tf, dt):\n",
      "    vcurr = vprev + a * dt\n",
      "    rcurr = rprev + vprev * dt\n",
      "    vprev = vcurr\n",
      "    rprev = rcurr\n",
      "print vprev, rprev\n",
      "    "
     ],
     "language": "python",
     "metadata": {},
     "outputs": [
      {
       "output_type": "stream",
       "stream": "stdout",
       "text": [
        "-46.0 893.725\n"
       ]
      }
     ],
     "prompt_number": 13
    },
    {
     "cell_type": "markdown",
     "metadata": {},
     "source": [
      "Exercise 1\n",
      "-\n",
      "###(a)\n",
      "\n",
      "$\\frac{dy}{dx} = x + 2 y$"
     ]
    },
    {
     "cell_type": "code",
     "collapsed": false,
     "input": [
      "yprev = 0\n",
      "x = 1\n",
      "stepsz = 0.25\n",
      "for i in arange(, , stepsz):\n",
      "    ycurr = x + 2 * yprev\n",
      "    yprev = ycurr\n",
      "print yprev"
     ],
     "language": "python",
     "metadata": {},
     "outputs": [
      {
       "ename": "SyntaxError",
       "evalue": "invalid syntax (<ipython-input-16-850febeeb75b>, line 4)",
       "output_type": "pyerr",
       "traceback": [
        "\u001b[0;36m  File \u001b[0;32m\"<ipython-input-16-850febeeb75b>\"\u001b[0;36m, line \u001b[0;32m4\u001b[0m\n\u001b[0;31m    for i in arange(, , stepsz):\u001b[0m\n\u001b[0m                    ^\u001b[0m\n\u001b[0;31mSyntaxError\u001b[0m\u001b[0;31m:\u001b[0m invalid syntax\n"
       ]
      }
     ],
     "prompt_number": 16
    },
    {
     "cell_type": "code",
     "collapsed": false,
     "input": [],
     "language": "python",
     "metadata": {},
     "outputs": []
    }
   ],
   "metadata": {}
  }
 ]
}