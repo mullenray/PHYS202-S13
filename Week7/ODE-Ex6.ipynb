{
 "metadata": {
  "name": "ODE-Ex6"
 },
 "nbformat": 3,
 "nbformat_minor": 0,
 "worksheets": [
  {
   "cells": [
    {
     "cell_type": "markdown",
     "metadata": {},
     "source": [
      "ODEs, Exercises 6\n",
      "=\n",
      "Problem 1\n",
      "-\n",
      "###Example 1: Free-Fall"
     ]
    },
    {
     "cell_type": "code",
     "collapsed": false,
     "input": [
      "a = -9.8\n",
      "vprev = 3  #initial velocity\n",
      "rprev = 1000  #initial position\n",
      "ti = 0.0  #initial time\n",
      "tf = 5.0  #final time\n",
      "n = 100  #number of steps\n",
      "dt = (tf - ti) / n  #step time interval\n",
      "for i in arange(ti, tf, dt):\n",
      "    vcurr = vprev + a * dt\n",
      "    rcurr = rprev + vprev * dt\n",
      "    vprev = vcurr\n",
      "    rprev = rcurr\n",
      "print vprev, rprev"
     ],
     "language": "python",
     "metadata": {},
     "outputs": [
      {
       "output_type": "stream",
       "stream": "stdout",
       "text": [
        "-46.0 893.725\n"
       ]
      }
     ],
     "prompt_number": 1
    },
    {
     "cell_type": "markdown",
     "metadata": {},
     "source": [
      "###Exercise 1\n",
      "###(a)\n",
      "\n",
      "$\\frac{dy}{dx} = x + 2 y$"
     ]
    },
    {
     "cell_type": "code",
     "collapsed": false,
     "input": [
      "yprev = 0\n",
      "x = 1\n",
      "stepsz = 0.25\n",
      "for i in arange(, , stepsz):\n",
      "    ycurr = x + 2 * yprev\n",
      "    yprev = ycurr\n",
      "print yprev"
     ],
     "language": "python",
     "metadata": {},
     "outputs": []
    },
    {
     "cell_type": "markdown",
     "metadata": {},
     "source": [
      "Problem 2\n",
      "-\n",
      "###(a)"
     ]
    },
    {
     "cell_type": "markdown",
     "metadata": {},
     "source": [
      "\\begin{tabular}{|l|c|r|}\n",
      "Object & Launch Angle (rad) & Initial Speed (m/s) \\\\ \\hline\n",
      "    Human Cannonball & $5 \\pi/18$ & $30.7$ \\\\ \\hline\n",
      "    Golfball & $2 \\pi/9$ & $32.8$ \\\\ \\hline\n",
      "    Baseball & $3 \\pi/18$ & $34.7$ \\\\\n",
      "    \\hline\n",
      "\\end{tabular}"
     ]
    },
    {
     "cell_type": "markdown",
     "metadata": {},
     "source": [
      "###(b)"
     ]
    },
    {
     "cell_type": "markdown",
     "metadata": {},
     "source": [
      "Range of the Civil War cannon with initial speed $439$ m/s:\n",
      "\n",
      "$5^\\circ : 1695$ m\n",
      "\n",
      "$10^\\circ : 2360$ m\n",
      "\n",
      "$15^\\circ : 2740$ m"
     ]
    },
    {
     "cell_type": "markdown",
     "metadata": {},
     "source": [
      "###(c)"
     ]
    },
    {
     "cell_type": "markdown",
     "metadata": {},
     "source": [
      "Initial speed for the Civil War cannonball with a range less than 1 km:\n",
      "\n",
      "$5^\\circ : 280$ m/s\n",
      "\n",
      "$10^\\circ : 202$ m/s\n",
      "\n",
      "$15^\\circ : 168$ m/s"
     ]
    },
    {
     "cell_type": "code",
     "collapsed": false,
     "input": [],
     "language": "python",
     "metadata": {},
     "outputs": []
    }
   ],
   "metadata": {}
  }
 ]
}