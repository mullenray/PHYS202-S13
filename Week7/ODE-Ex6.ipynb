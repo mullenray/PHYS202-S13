{
 "metadata": {
  "name": "ODE-Ex6"
 },
 "nbformat": 3,
 "nbformat_minor": 0,
 "worksheets": [
  {
   "cells": [
    {
     "cell_type": "markdown",
     "metadata": {},
     "source": [
      "ODEs, Exercises 6\n",
      "=\n",
      "Problem 1\n",
      "-\n",
      "###Example 1: Free-Fall"
     ]
    },
    {
     "cell_type": "code",
     "collapsed": false,
     "input": [
      "a = -9.8\n",
      "vprev = 3  #initial velocity\n",
      "rprev = 1000  #initial position\n",
      "ti = 0.0  #initial time\n",
      "tf = 5.0  #final time\n",
      "n = 100  #number of steps\n",
      "dt = (tf - ti) / n  #step time interval\n",
      "for i in arange(ti, tf, dt):\n",
      "    vcurr = vprev + a * dt\n",
      "    rcurr = rprev + vprev * dt\n",
      "    vprev = vcurr\n",
      "    rprev = rcurr\n",
      "print vprev, rprev"
     ],
     "language": "python",
     "metadata": {},
     "outputs": [
      {
       "output_type": "stream",
       "stream": "stdout",
       "text": [
        "-46.0 893.725\n"
       ]
      }
     ],
     "prompt_number": 1
    },
    {
     "cell_type": "markdown",
     "metadata": {},
     "source": [
      "###Exercise 1\n",
      "###(a)\n",
      "\n",
      "$\\frac{dy}{dx} = x + 2 y$"
     ]
    },
    {
     "cell_type": "code",
     "collapsed": false,
     "input": [
      "yprev = 0\n",
      "x = 1\n",
      "stepsz = 0.25\n",
      "for i in arange(, , stepsz):\n",
      "    ycurr = x + 2 * yprev\n",
      "    yprev = ycurr\n",
      "print yprev"
     ],
     "language": "python",
     "metadata": {},
     "outputs": []
    },
    {
     "cell_type": "markdown",
     "metadata": {},
     "source": [
      "Problem 2\n",
      "-"
     ]
    },
    {
     "cell_type": "markdown",
     "metadata": {},
     "source": [
      "To be continued when the manipulate works..."
     ]
    }
   ],
   "metadata": {}
  }
 ]
}