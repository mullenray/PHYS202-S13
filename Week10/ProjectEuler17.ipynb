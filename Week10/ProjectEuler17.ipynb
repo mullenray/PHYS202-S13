{
 "metadata": {
  "name": "ProjectEuler17"
 },
 "nbformat": 3,
 "nbformat_minor": 0,
 "worksheets": [
  {
   "cells": [
    {
     "cell_type": "markdown",
     "metadata": {},
     "source": [
      "Number Letter Counts\n",
      "=\n",
      "Problem 17\n",
      "-\n",
      "If the numbers 1 to 5 are written out in words: one, two, three, four, five, then there are 3 + 3 + 5 + 4 + 4 = 19 letters used in total.\n",
      "\n",
      "If all the numbers from 1 to 1000 (one thousand) inclusive were written out in words, how many letters would be used?\n",
      "\n",
      "\n",
      "NOTE: Do not count spaces or hyphens. For example, 342 (three hundred and forty-two) contains 23 letters and 115 (one hundred and fifteen) contains 20 letters. The use of \"and\" when writing out numbers is in compliance with British usage."
     ]
    },
    {
     "cell_type": "markdown",
     "metadata": {},
     "source": [
      "one = 3\n",
      "\n",
      "two = 3\n",
      "\n",
      "three = 5\n",
      "\n",
      "four = 4\n",
      "\n",
      "five = 4\n",
      "\n",
      "six = 3\n",
      "\n",
      "seven = 5\n",
      "\n",
      "eight = 5\n",
      "\n",
      "nine = 4\n",
      "\n",
      ".\n",
      "\n",
      "ten = 3\n",
      "\n",
      "eleven = 6\n",
      "\n",
      "twelve = 6\n",
      "\n",
      "thirteen = 8\n",
      "\n",
      "fourteen = 8\n",
      "\n",
      "fifteen = 7\n",
      "\n",
      "sixteen = 7\n",
      "\n",
      "seventeen = 9\n",
      "\n",
      "eighteen = 8\n",
      "\n",
      "nineteen = 8\n",
      "\n",
      ".\n",
      "\n",
      "twenty = 6\n",
      "\n",
      "thirty = 6\n",
      "\n",
      "forty = 5\n",
      "\n",
      "fifty = 5\n",
      "\n",
      "sixty = 5\n",
      "\n",
      "seventy = 7 \n",
      "\n",
      "eighty = 6\n",
      "\n",
      "ninety = 6\n",
      "\n",
      ".\n",
      "\n",
      "hundred = 7\n",
      "\n",
      "and = 3\n",
      "\n",
      "one thousand = 11\n"
     ]
    },
    {
     "cell_type": "markdown",
     "metadata": {},
     "source": [
      "###Test Case:\n",
      "Summing the total number of letters used if the numbers 1 to 5 are written in words"
     ]
    },
    {
     "cell_type": "code",
     "collapsed": false,
     "input": [
      "i = 1\n",
      "lettertotal = 0\n",
      "onefive = [3, 3, 5, 4, 4]\n",
      "while i <= 5:\n",
      "    if i in range(1, 6):\n",
      "        lettertotal += onefive[i-1]\n",
      "    i += 1\n",
      "\n",
      "lettertotal"
     ],
     "language": "python",
     "metadata": {},
     "outputs": [
      {
       "output_type": "pyout",
       "prompt_number": 7,
       "text": [
        "19"
       ]
      }
     ],
     "prompt_number": 7
    },
    {
     "cell_type": "code",
     "collapsed": false,
     "input": [
      "i = 1\n",
      "lettertotal = 0\n",
      "\n",
      "ones = [3, 3, 5, 4, 4, 3, 5, 5, 4]  #The number of letters in the words of the numbers from 1 to 9\n",
      "ten19 = [3, 6, 6, 8, 8, 7, 7, 9, 8, 8]  #The number of letters in the words of the numbers from 10 to 19\n",
      "tens = [6, 6, 5, 5, 5, 7, 6, 6]  #The number of letters in the words of the numbers from 20 to 90, counting by ten\n",
      "hundred = 7\n",
      "a_nd = 3\n",
      "\n",
      "while i <= 1000:\n",
      "    if i in range(1, 10):  #The numbers 1 - 9\n",
      "        lettertotal += ones[i-1]\n",
      "    if i in range(10, 20):  #The numbers 10 - 19\n",
      "        lettertotal += ten19[i-10]\n",
      "    if i in range(20, 100):  #The numbers 20 - 99\n",
      "        if i % 10 == 0:  #The numbers that are multiples of 10\n",
      "            lettertotal += tens[(i - 20)/10]\n",
      "        else:\n",
      "            lettertotal += tens[int(str(i)[0]) - 2] + ones[int(str(i)[1])-1]\n",
      "    if i in range(100, 1000):  #The numbers 100 - 999\n",
      "        if i % 100 == 0:  #The numbers that are multiples of 100\n",
      "            lettertotal += ones[(i / 100) - 1] + hundred\n",
      "        if int(str(i)[1]) == 0:  #The numbers whose tens place is zero (102, 501, 604)\n",
      "            lettertotal += ones[int(str(i)[0]) - 1] + hundred + a_nd + ones[int(str(i)[2]) - 1]\n",
      "        if int(str(i)[1]) == 1:  #The numbers whose tens place is one (219, 411, 717)\n",
      "            lettertotal += ones[int(str(i)[0]) - 1] + hundred + a_nd + ten19[int(str(i)[2])]\n",
      "        if int(str(i)[1]) in range(2, 10):  #The numbers whose tens place is between 2 and 9 (225, 749, 960)\n",
      "            if int(str(i)[2]) == 0:  #The numbers that are multiples of ten (330, 660, 920)\n",
      "                lettertotal += ones[int(str(i)[0]) - 1] + hundred + a_nd + tens[int(str(i)[1]) - 2]\n",
      "            else:\n",
      "                lettertotal += ones[int(str(i)[0]) - 1] + hundred + a_nd + tens[int(str(i)[1]) - 2] + ones[int(str(i)[2]) - 1]\n",
      "    if i == 1000:\n",
      "        lettertotal += 11\n",
      "    i += 1\n",
      "    \n",
      "print lettertotal"
     ],
     "language": "python",
     "metadata": {},
     "outputs": [
      {
       "output_type": "stream",
       "stream": "stdout",
       "text": [
        "21286\n"
       ]
      }
     ],
     "prompt_number": 26
    },
    {
     "cell_type": "markdown",
     "metadata": {},
     "source": [
      "The sum of the total number of letters used if the numbers 1 to 1000 are written in words is 21286."
     ]
    },
    {
     "cell_type": "code",
     "collapsed": false,
     "input": [],
     "language": "python",
     "metadata": {},
     "outputs": []
    }
   ],
   "metadata": {}
  }
 ]
}