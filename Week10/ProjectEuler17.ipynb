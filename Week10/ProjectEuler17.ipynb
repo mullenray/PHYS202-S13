{
 "metadata": {
  "name": "ProjectEuler17"
 },
 "nbformat": 3,
 "nbformat_minor": 0,
 "worksheets": [
  {
   "cells": [
    {
     "cell_type": "markdown",
     "metadata": {},
     "source": [
      "Number Letter Counts\n",
      "=\n",
      "Problem 17\n",
      "-\n",
      "If the numbers 1 to 5 are written out in words: one, two, three, four, five, then there are 3 + 3 + 5 + 4 + 4 = 19 letters used in total.\n",
      "\n",
      "If all the numbers from 1 to 1000 (one thousand) inclusive were written out in words, how many letters would be used?\n",
      "\n",
      "\n",
      "NOTE: Do not count spaces or hyphens. For example, 342 (three hundred and forty-two) contains 23 letters and 115 (one hundred and fifteen) contains 20 letters. The use of \"and\" when writing out numbers is in compliance with British usage."
     ]
    },
    {
     "cell_type": "markdown",
     "metadata": {},
     "source": [
      "one = 3\n",
      "two = 3\n",
      "three = 5\n",
      "four = 4\n",
      "five = 4\n",
      "six = 3\n",
      "seven = 5\n",
      "eight = 5\n",
      "nine = 4\n",
      "ten = 3\n",
      "eleven = 6\n",
      "twelve = 6\n",
      "thirteen = 8\n",
      "fourteen = 8\n",
      "fifteen = 7\n",
      "sixteen = 7\n",
      "seventeen = 9\n",
      "eighteen = 8\n",
      "nineteen = 8\n",
      "twenty = 6\n",
      "thirty = 6\n",
      ".\n",
      ".\n",
      ".\n",
      "hundred = 7\n",
      "and = 3\n"
     ]
    },
    {
     "cell_type": "code",
     "collapsed": false,
     "input": [],
     "language": "python",
     "metadata": {},
     "outputs": []
    }
   ],
   "metadata": {}
  }
 ]
}