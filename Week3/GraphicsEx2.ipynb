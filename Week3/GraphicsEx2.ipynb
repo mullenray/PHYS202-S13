{
 "metadata": {
  "name": "GraphicsEx2"
 },
 "nbformat": 3,
 "nbformat_minor": 0,
 "worksheets": [
  {
   "cells": [
    {
     "cell_type": "markdown",
     "metadata": {},
     "source": [
      "Publication Quality Graphics, Exercises 2\n",
      "="
     ]
    },
    {
     "cell_type": "markdown",
     "metadata": {},
     "source": [
      "Question 1\n",
      "-"
     ]
    },
    {
     "cell_type": "markdown",
     "metadata": {},
     "source": [
      "\\begin{equation}\n",
      "\\psi_k(x)= A\\left(\\frac{ik - a\\tanh(ax)}{ik+a}\\right)e^{+ikx}\n",
      "\\end{equation}"
     ]
    },
    {
     "cell_type": "markdown",
     "metadata": {},
     "source": [
      "\\begin{equation}\n",
      "v_1 = m_2\\sqrt{\\frac{2G}{M}\\left(\\frac{1}{r}-\\frac{1}{r_0}\\right)}\n",
      "\\end{equation}"
     ]
    },
    {
     "cell_type": "markdown",
     "metadata": {},
     "source": [
      "\\begin{equation}\n",
      "f(\\theta) = \\frac{\\hbar}{p}\\sum^\\infty_{\\ell=0}(2\\ell+1)e^{i\\delta_l}\\sin\\delta_{\\ell}P_{\\ell}(\\cos\\theta)\n",
      "\\end{equation}"
     ]
    },
    {
     "cell_type": "markdown",
     "metadata": {},
     "source": [
      "\\begin{equation}\n",
      "\\frac{d\\sigma}{d\\Omega} = \\frac{k\\pi^2(\\pi-\\theta)}{mu^2_0\\theta^2(2\\pi-\\theta)^2\\sin(\\theta)}\n",
      "\\end{equation}"
     ]
    },
    {
     "cell_type": "markdown",
     "metadata": {},
     "source": [
      "\\begin{equation}\n",
      "\\langle f \\rangle = \\frac{1}{\\tau}\\int^{\\tau}_{0}f(t)dt\n",
      "\\end{equation}"
     ]
    },
    {
     "cell_type": "markdown",
     "metadata": {},
     "source": [
      "\\begin{equation}\n",
      "\\Omega_S = \\omega\\frac{\\sin(\\alpha)}{\\sin(\\theta)} = \\frac{L}{\\lambda_1} = \\omega\\frac{\\sqrt{\\lambda^2_3 + (\\lambda^2_1 - \\lambda^2_3)\\sin(\\alpha)}}{\\lambda_1}\n",
      "\\end{equation}"
     ]
    },
    {
     "cell_type": "markdown",
     "metadata": {},
     "source": [
      "Question 2\n",
      "-"
     ]
    },
    {
     "cell_type": "code",
     "collapsed": false,
     "input": [
      "i = 1j\n",
      "\n",
      "x = arange(-4.0, 4, 0.1)\n",
      "U = -(1/cosh(x)) ** 2\n",
      "\n",
      "plot(x, U, color = \"blue\", linewidth = 2.5, label = \"$U(x)$\")\n",
      "xlabel(\"$U(x)$\", fontsize = 15)\n",
      "ylabel(\"$U(x), \\psi^2 (x)$\", fontsize = 15)\n",
      "legend(loc = 3)\n",
      "xticks( arange(-(3*pi)/2, (3 * pi)/2, pi/2), (\"-pi\", \"-pi/2\", 0, \"pi/2\", \"pi\") )\n",
      "show()\n",
      "#add grid lines"
     ],
     "language": "python",
     "metadata": {},
     "outputs": [
      {
       "output_type": "display_data",
       "png": "[encoded data removed]"
      }
     ],
     "prompt_number": 49
    },
    {
     "cell_type": "code",
     "collapsed": false,
     "input": [],
     "language": "python",
     "metadata": {},
     "outputs": []
    }
   ],
   "metadata": {}
  }
 ]
}