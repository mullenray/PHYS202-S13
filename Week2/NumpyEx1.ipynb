{
 "metadata": {
  "name": "NumpyEx1"
 },
 "nbformat": 3,
 "nbformat_minor": 0,
 "worksheets": [
  {
   "cells": [
    {
     "cell_type": "markdown",
     "metadata": {},
     "source": [
      "NumPy Exercises 1\n",
      "=\n",
      "Quesiton 1\n",
      "-"
     ]
    },
    {
     "cell_type": "code",
     "collapsed": false,
     "input": [
      "import numpy as np"
     ],
     "language": "python",
     "metadata": {},
     "outputs": [],
     "prompt_number": 1
    },
    {
     "cell_type": "markdown",
     "metadata": {},
     "source": [
      "Answer to Question 1, first array:"
     ]
    },
    {
     "cell_type": "code",
     "collapsed": false,
     "input": [
      "a = np.array([[1,1,1,1],[1,1,1,1],[1,1,1,2],[1,6,1,1]])\n",
      "a"
     ],
     "language": "python",
     "metadata": {},
     "outputs": [
      {
       "output_type": "pyout",
       "prompt_number": 2,
       "text": [
        "array([[1, 1, 1, 1],\n",
        "       [1, 1, 1, 1],\n",
        "       [1, 1, 1, 2],\n",
        "       [1, 6, 1, 1]])"
       ]
      }
     ],
     "prompt_number": 2
    },
    {
     "cell_type": "code",
     "collapsed": false,
     "input": [
      "b = np.array([[0,0,0,0,0],[np.diag([2,3,4,5,6])]])\n",
      "b"
     ],
     "language": "python",
     "metadata": {},
     "outputs": [
      {
       "output_type": "pyout",
       "prompt_number": 4,
       "text": [
        "array([[0, 0, 0, 0, 0],\n",
        "       [array([[2, 0, 0, 0, 0],\n",
        "       [0, 3, 0, 0, 0],\n",
        "       [0, 0, 4, 0, 0],\n",
        "       [0, 0, 0, 5, 0],\n",
        "       [0, 0, 0, 0, 6]])]], dtype=object)"
       ]
      }
     ],
     "prompt_number": 4
    },
    {
     "cell_type": "code",
     "collapsed": false,
     "input": [
      "b = np.diag([2,3,4,5,6], k=-1)\n",
      "b"
     ],
     "language": "python",
     "metadata": {},
     "outputs": [
      {
       "output_type": "pyout",
       "prompt_number": 20,
       "text": [
        "array([[0, 0, 0, 0, 0, 0],\n",
        "       [2, 0, 0, 0, 0, 0],\n",
        "       [0, 3, 0, 0, 0, 0],\n",
        "       [0, 0, 4, 0, 0, 0],\n",
        "       [0, 0, 0, 5, 0, 0],\n",
        "       [0, 0, 0, 0, 6, 0]])"
       ]
      }
     ],
     "prompt_number": 20
    },
    {
     "cell_type": "markdown",
     "metadata": {},
     "source": [
      "Answer to Question 1, second array:"
     ]
    },
    {
     "cell_type": "code",
     "collapsed": false,
     "input": [
      "b = np.diag([2.,3,4,5,6], k=-1)\n",
      "b = np.delete(b, 5, 1)\n",
      "b"
     ],
     "language": "python",
     "metadata": {},
     "outputs": [
      {
       "output_type": "pyout",
       "prompt_number": 31,
       "text": [
        "array([[ 0.,  0.,  0.,  0.,  0.],\n",
        "       [ 2.,  0.,  0.,  0.,  0.],\n",
        "       [ 0.,  3.,  0.,  0.,  0.],\n",
        "       [ 0.,  0.,  4.,  0.,  0.],\n",
        "       [ 0.,  0.,  0.,  5.,  0.],\n",
        "       [ 0.,  0.,  0.,  0.,  6.]])"
       ]
      }
     ],
     "prompt_number": 31
    },
    {
     "cell_type": "markdown",
     "metadata": {},
     "source": [
      "Question 2\n",
      "-"
     ]
    },
    {
     "cell_type": "code",
     "collapsed": false,
     "input": [
      "c = np.array([[4,3], [2,1]])\n",
      "d = np.tile(c, 3)\n",
      "e = np.tile(d, (2,1))\n",
      "e"
     ],
     "language": "python",
     "metadata": {},
     "outputs": [
      {
       "output_type": "pyout",
       "prompt_number": 45,
       "text": [
        "array([[4, 3, 4, 3, 4, 3],\n",
        "       [2, 1, 2, 1, 2, 1],\n",
        "       [4, 3, 4, 3, 4, 3],\n",
        "       [2, 1, 2, 1, 2, 1]])"
       ]
      }
     ],
     "prompt_number": 45
    },
    {
     "cell_type": "markdown",
     "metadata": {},
     "source": [
      "Question 3\n",
      "-"
     ]
    },
    {
     "cell_type": "markdown",
     "metadata": {},
     "source": [
      "###(a)"
     ]
    },
    {
     "cell_type": "code",
     "collapsed": false,
     "input": [
      "is_prime = np.ones((100,), dtype = bool)\n",
      "is_prime.shape"
     ],
     "language": "python",
     "metadata": {},
     "outputs": [
      {
       "output_type": "pyout",
       "prompt_number": 14,
       "text": [
        "(100,)"
       ]
      }
     ],
     "prompt_number": 14
    },
    {
     "cell_type": "markdown",
     "metadata": {},
     "source": [
      "###(b)"
     ]
    },
    {
     "cell_type": "code",
     "collapsed": false,
     "input": [
      "is_prime[:2] = False"
     ],
     "language": "python",
     "metadata": {},
     "outputs": [],
     "prompt_number": 20
    },
    {
     "cell_type": "markdown",
     "metadata": {},
     "source": [
      "###(c)"
     ]
    },
    {
     "cell_type": "code",
     "collapsed": false,
     "input": [
      "N_max = int(np.sqrt(len(is_prime)))\n",
      "for j in range(2,N_max):\n",
      "    is_prime[2 * j::j] = False"
     ],
     "language": "python",
     "metadata": {},
     "outputs": [],
     "prompt_number": 17
    },
    {
     "cell_type": "markdown",
     "metadata": {},
     "source": [
      "The slicing of the array tells which elements in the array to make False.  The \"[2 * j:\" portion tells it where to start its slice. The lack of input between the two colons tells it to default to end the slice at the end of the array.  The \":j]\" portion tells the slice how large the steps it takes are.  j tells it to slice every \"j\" amount from the start."
     ]
    },
    {
     "cell_type": "markdown",
     "metadata": {},
     "source": [
      "###(d)"
     ]
    },
    {
     "cell_type": "code",
     "collapsed": false,
     "input": [
      "prime = np.nonzero(is_prime)\n",
      "prime"
     ],
     "language": "python",
     "metadata": {},
     "outputs": [
      {
       "output_type": "pyout",
       "prompt_number": 22,
       "text": [
        "(array([ 2,  3,  5,  7, 11, 13, 17, 19, 23, 29, 31, 37, 41, 43, 47, 53, 59,\n",
        "       61, 67, 71, 73, 79, 83, 89, 97]),)"
       ]
      }
     ],
     "prompt_number": 22
    },
    {
     "cell_type": "markdown",
     "metadata": {},
     "source": [
      "###(e)"
     ]
    },
    {
     "cell_type": "code",
     "collapsed": false,
     "input": [
      "def eratosthenes_sieve(maximum):\n",
      "    num_array = [range(2, maximum + 1)]\n",
      "    p = 2\n",
      "    for p in num_array:\n",
      "        num_array[2 * p::p]  #remove that <---\n",
      "    \n",
      "eratosthenes_sieve(5)"
     ],
     "language": "python",
     "metadata": {},
     "outputs": [
      {
       "ename": "TypeError",
       "evalue": "slice indices must be integers or None or have an __index__ method",
       "output_type": "pyerr",
       "traceback": [
        "\u001b[0;31m---------------------------------------------------------------------------\u001b[0m\n\u001b[0;31mTypeError\u001b[0m                                 Traceback (most recent call last)",
        "\u001b[0;32m<ipython-input-26-c35ee8584f09>\u001b[0m in \u001b[0;36m<module>\u001b[0;34m()\u001b[0m\n\u001b[1;32m      5\u001b[0m         \u001b[0mnum_array\u001b[0m\u001b[0;34m[\u001b[0m\u001b[0;36m2\u001b[0m \u001b[0;34m*\u001b[0m \u001b[0mp\u001b[0m\u001b[0;34m:\u001b[0m\u001b[0;34m:\u001b[0m\u001b[0mp\u001b[0m\u001b[0;34m]\u001b[0m\u001b[0;34m\u001b[0m\u001b[0m\n\u001b[1;32m      6\u001b[0m \u001b[0;34m\u001b[0m\u001b[0m\n\u001b[0;32m----> 7\u001b[0;31m \u001b[0meratosthenes_sieve\u001b[0m\u001b[0;34m(\u001b[0m\u001b[0;36m5\u001b[0m\u001b[0;34m)\u001b[0m\u001b[0;34m\u001b[0m\u001b[0m\n\u001b[0m",
        "\u001b[0;32m<ipython-input-26-c35ee8584f09>\u001b[0m in \u001b[0;36meratosthenes_sieve\u001b[0;34m(maximum)\u001b[0m\n\u001b[1;32m      3\u001b[0m     \u001b[0mp\u001b[0m \u001b[0;34m=\u001b[0m \u001b[0;36m2\u001b[0m\u001b[0;34m\u001b[0m\u001b[0m\n\u001b[1;32m      4\u001b[0m     \u001b[0;32mfor\u001b[0m \u001b[0mp\u001b[0m \u001b[0;32min\u001b[0m \u001b[0mnum_array\u001b[0m\u001b[0;34m:\u001b[0m\u001b[0;34m\u001b[0m\u001b[0m\n\u001b[0;32m----> 5\u001b[0;31m         \u001b[0mnum_array\u001b[0m\u001b[0;34m[\u001b[0m\u001b[0;36m2\u001b[0m \u001b[0;34m*\u001b[0m \u001b[0mp\u001b[0m\u001b[0;34m:\u001b[0m\u001b[0;34m:\u001b[0m\u001b[0mp\u001b[0m\u001b[0;34m]\u001b[0m\u001b[0;34m\u001b[0m\u001b[0m\n\u001b[0m\u001b[1;32m      6\u001b[0m \u001b[0;34m\u001b[0m\u001b[0m\n\u001b[1;32m      7\u001b[0m \u001b[0meratosthenes_sieve\u001b[0m\u001b[0;34m(\u001b[0m\u001b[0;36m5\u001b[0m\u001b[0;34m)\u001b[0m\u001b[0;34m\u001b[0m\u001b[0m\n",
        "\u001b[0;31mTypeError\u001b[0m: slice indices must be integers or None or have an __index__ method"
       ]
      }
     ],
     "prompt_number": 26
    },
    {
     "cell_type": "code",
     "collapsed": false,
     "input": [],
     "language": "python",
     "metadata": {},
     "outputs": []
    }
   ],
   "metadata": {}
  }
 ]
}