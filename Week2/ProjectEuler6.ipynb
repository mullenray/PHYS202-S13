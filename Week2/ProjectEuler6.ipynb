{
 "metadata": {
  "name": "ProjectEuler6"
 },
 "nbformat": 3,
 "nbformat_minor": 0,
 "worksheets": [
  {
   "cells": [
    {
     "cell_type": "markdown",
     "metadata": {},
     "source": [
      "Sum square difference\n",
      "=====================\n",
      "Problem 6\n",
      "---------\n",
      "\n",
      "The sum of the squares of the first ten natural numbers is,\n",
      "\n",
      "$1$$^2$ $+$ $2$$^2$ $+$ ... $+$ $10$$^2$ $=$ $385$\n",
      "\n",
      "The square of the sum of the first ten natural numbers is,\n",
      "\n",
      "$($$1$ $+$ $2$ $+$ ... $+$ $10$$)$$^2$ $=$ $55$$^2$ $=$ $3025$\n",
      "\n",
      "Hence the difference between the sum of the squares of the first ten natural numbers and the square of the sum is $3025$ $-$ $385$ $=$ $2640$.\n",
      "\n",
      "Find the difference between the sum of the squares of the first one hundred natural numbers and the square of the sum."
     ]
    },
    {
     "cell_type": "code",
     "collapsed": false,
     "input": [
      "for i in range(1,11):\n",
      "    print i"
     ],
     "language": "python",
     "metadata": {},
     "outputs": [
      {
       "output_type": "stream",
       "stream": "stdout",
       "text": [
        "1\n",
        "2\n",
        "3\n",
        "4\n",
        "5\n",
        "6\n",
        "7\n",
        "8\n",
        "9\n",
        "10\n"
       ]
      }
     ],
     "prompt_number": 5
    },
    {
     "cell_type": "code",
     "collapsed": false,
     "input": [
      "squsum = 0\n",
      "for i in range(1,11):\n",
      "    squsum += (i ** 2)\n",
      "print squsum     #sum of the squares"
     ],
     "language": "python",
     "metadata": {},
     "outputs": [
      {
       "output_type": "stream",
       "stream": "stdout",
       "text": [
        "385\n"
       ]
      }
     ],
     "prompt_number": 11
    },
    {
     "cell_type": "code",
     "collapsed": false,
     "input": [
      "sumtotal = 0\n",
      "for i in range (1,11):\n",
      "    sumtotal += i\n",
      "print sumtotal ** 2     #square of the sums"
     ],
     "language": "python",
     "metadata": {},
     "outputs": [
      {
       "output_type": "stream",
       "stream": "stdout",
       "text": [
        "3025\n"
       ]
      }
     ],
     "prompt_number": 10
    },
    {
     "cell_type": "code",
     "collapsed": false,
     "input": [
      "squsum = 0\n",
      "for i in range(1,11):\n",
      "    squsum += (i ** 2)    #sum of the squares\n",
      "\n",
      "sumtotal = 0\n",
      "for i in range (1,11):\n",
      "    sumtotal += i\n",
      "sumtot = sumtotal ** 2     #square of the sums\n",
      "\n",
      "print sumtot - squsum"
     ],
     "language": "python",
     "metadata": {},
     "outputs": [
      {
       "output_type": "stream",
       "stream": "stdout",
       "text": [
        "2640\n"
       ]
      }
     ],
     "prompt_number": 21
    },
    {
     "cell_type": "code",
     "collapsed": false,
     "input": [
      "squsum = 0\n",
      "for i in range(1,101):\n",
      "    squsum += (i ** 2)    #sum of the squares\n",
      "\n",
      "sumtotal = 0\n",
      "for i in range (1,101):\n",
      "    sumtotal += i\n",
      "sumtot = sumtotal ** 2     #square of the sums\n",
      "\n",
      "print sumtot - squsum"
     ],
     "language": "python",
     "metadata": {},
     "outputs": [
      {
       "output_type": "stream",
       "stream": "stdout",
       "text": [
        "25164150\n"
       ]
      }
     ],
     "prompt_number": 22
    },
    {
     "cell_type": "code",
     "collapsed": false,
     "input": [],
     "language": "python",
     "metadata": {},
     "outputs": []
    }
   ],
   "metadata": {}
  }
 ]
}