{
 "metadata": {
  "name": "EventSim"
 },
 "nbformat": 3,
 "nbformat_minor": 0,
 "worksheets": [
  {
   "cells": [
    {
     "cell_type": "code",
     "collapsed": false,
     "input": [
      "import random"
     ],
     "language": "python",
     "metadata": {},
     "outputs": [],
     "prompt_number": 7
    },
    {
     "cell_type": "markdown",
     "metadata": {},
     "source": [
      "The location of my 19 detectors.  The key is the detector number and the value is given as (x, y, z) locations with z = 0 being at sea level."
     ]
    },
    {
     "cell_type": "code",
     "collapsed": false,
     "input": [
      "DetectorLocations = {'1':[394.86, 521.90, 109.0],'2':[-186.50, 611.53, 108.0],'3':[570.66,247.07,128.0],\n",
      "'4':[0.0,0.0,94.0],'5':[413.25,-330.13,107.0],'6':[620.71,-107.77,129.0],'7':[434.84,108.58,115.0],\n",
      "'8':[-102.56,388.98,101.0],'9':[303.77,-153.38,105.0],'10':[123.15,289.27,97.0],'11':[231.83,67.57,103.0],\n",
      "'12':[146.89,-172.11,98.0],'13':[-144.21,74.59,91.0],'14':[-429.34,78.26,88.0],'15':[-321.69,312.27,94.0],\n",
      "'16':[-148.08,-191.94,92.0],'17':[-49.35,-359.77,88.0],'18':[163.36,-459.282,100.0],'19':[-72.51,-522.57,86.0]}\n",
      "\n",
      "\"\"\"\n",
      "Reminders on iterating through dictionaries:\n",
      "y = 394.86\n",
      "for x in DetectorLocations.values():\n",
      "    if y in x:\n",
      "        print True\n",
      "\n",
      "for i in DetectorLocations.keys():\n",
      "    print DetectorLocations[i][2]\n",
      "\"\"\""
     ],
     "language": "python",
     "metadata": {},
     "outputs": [
      {
       "output_type": "pyout",
       "prompt_number": 2,
       "text": [
        "'\\nReminders on iterating through dictionaries:\\ny = 394.86\\nfor x in DetectorLocations.values():\\n    if y in x:\\n        print True\\n\\nfor i in DetectorLocations.keys():\\n    print DetectorLocations[i][2]\\n'"
       ]
      }
     ],
     "prompt_number": 2
    },
    {
     "cell_type": "code",
     "collapsed": false,
     "input": [
      "def RandomEvent(N):\n",
      "    '''N is the number of events to simulate.'''\n",
      "    i = 1\n",
      "    phiset = []\n",
      "    thset = []\n",
      "    xinitset = []\n",
      "    yinitset = []\n",
      "    while i <= N:    #Generate the random events\n",
      "        phi = random.uniform(0,5.95)  #Angle the incoming particle makes with the vetical\n",
      "        th = random.uniform(0,360.0)  #The direction the particle is going \n",
      "        r = 650.0  #meters ; radius of the initial cirle where the interactions are taking place\n",
      "        #To determine a random (x, y) value for the incoming particle, decide if it enters in quadrent 1 and 2 or 3 and 4, then check if it is in the circle.\n",
      "        half = random.randint(1,2)  #Which quadrants\n",
      "        if half == 1: #Top half/Positive y\n",
      "            xinit = random.uniform(-r, r)\n",
      "            yinit = random.uniform(0.0, r)\n",
      "            f = lambda x: ((r)**(2.0) - x**(2.0))**(1.0/2.0)\n",
      "            if yinit <= f(xinit):  #It's good\n",
      "                phiset.append(phi)\n",
      "                thset.append(th)\n",
      "                xinitset.append(xinit)\n",
      "                yinitset.append(yinit)\n",
      "        if half == 2: #Bottom half/ Negative y\n",
      "            xinit = random.uniform(-r, r)\n",
      "            yinit = random.uniform(-r, 0.0)\n",
      "            f = lambda x: (-1.0)*((r)**(2.0) - x**(2.0))**(1.0/2.0)\n",
      "            if yinit >= f(xinit):  #It's good\n",
      "                phiset.append(phi)\n",
      "                thset.append(th)\n",
      "                xinitset.append(xinit)\n",
      "                yinitset.append(yinit)\n",
      "        i += 1\n",
      "    #Clear the data file of previous runs and insert a comment row\n",
      "    f = open(\"muonData.dat\", \"w\")\n",
      "    f.write(\"#Each row is a separate event. The columns are the velocities (m/s) of the muons involved in that event.\\n\\n\")\n",
      "    f.close()\n",
      "    #Projecting the cone...\n",
      "    #At the height of each detector, figure out where the cone is and if the detector is hit\n",
      "    numevents = len(phiset)\n",
      "    lessthr = 0  #Counter for how many events don't hit three detectors\n",
      "    for i in range(0, numevents):\n",
      "        dethit = []\n",
      "        muenergy = []\n",
      "        for j in DetectorLocations.keys():\n",
      "            h = DetectorLocations[j][2]  #The height of each detector\n",
      "            c = h * tan(phiset[i])   #distance the center of the projected cone is away from vertical\n",
      "            xn = c * cos(thset[i])   #x coordinate of the center at height h\n",
      "            yn = c * sin(thset[i])   #y coordinate of the center at height h\n",
      "            xd = DetectorLocations[j][0]   #x coordinate of the detector\n",
      "            yd = DetectorLocations[j][1]   #y coordinate of the detector\n",
      "            distance = ((xn - xd)**2 + (yn - yd)**2)**(0.5)  #distance between the detector and the center of the cone\n",
      "            ra = h * tan(1.2)\n",
      "            if distance <= ra:   #The detector is hit if it is in the cone\n",
      "                dethit.append(j)\n",
      "        k = 0\n",
      "        if len(dethit) >= 3:  #Making sure that at least three detectors are hit\n",
      "            dhit = dethit\n",
      "        else:\n",
      "            lessthr += 1\n",
      "        while k < len(dhit):\n",
      "            muenergy.append(random.gauss(4, 1.5))   #GeV/c^2\n",
      "            k += 1\n",
      "        #Find the velocity for each muon from the relativistic energy equation E = (gamma)*m*c**2\n",
      "        c = 3*10**8  #m/s  ;speed of light\n",
      "        mmu = 105.658  #MeV/c^2  ;mass of a muon\n",
      "        muvelocity = []\n",
      "        for e in muenergy:\n",
      "            muvel = (c**2 * (1 - (mmu / (e*(1*10**(3))))**2))**(0.5)  #m/s\n",
      "            muvelocity.append(muvel)\n",
      "        #Write (append) the data for each event to a file called muonData\n",
      "        f = open(\"muonData.dat\", \"a\")\n",
      "        savetxt(f, column_stack(muvelocity))\n",
      "        f.close()\n",
      "    print lessthr"
     ],
     "language": "python",
     "metadata": {},
     "outputs": [],
     "prompt_number": 259
    },
    {
     "cell_type": "code",
     "collapsed": false,
     "input": [
      "RandomEvent(100)"
     ],
     "language": "python",
     "metadata": {},
     "outputs": [
      {
       "output_type": "stream",
       "stream": "stdout",
       "text": [
        "15\n"
       ]
      }
     ],
     "prompt_number": 300
    },
    {
     "cell_type": "markdown",
     "metadata": {},
     "source": [
      "The number of events discarded usually ranges between 15 and 20 out of 100.  The efficiency stands to be improved.  It would certainly go up if more detectors were added to the simulation.  More detectors wouldn't be necessary if the size of the circle where we are simulating interactions was decreased."
     ]
    },
    {
     "cell_type": "code",
     "collapsed": false,
     "input": [],
     "language": "python",
     "metadata": {},
     "outputs": []
    }
   ],
   "metadata": {}
  }
 ]
}