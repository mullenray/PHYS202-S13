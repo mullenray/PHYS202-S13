{
 "metadata": {
  "name": "ProjectEuler5"
 },
 "nbformat": 3,
 "nbformat_minor": 0,
 "worksheets": [
  {
   "cells": [
    {
     "cell_type": "markdown",
     "metadata": {},
     "source": [
      "Smallest Multiple\n",
      "=\n",
      "Problem 5\n",
      "-\n",
      "2520 is the smallest number that can be divided by each of the numbers from 1 to 10 without any remainder.\n",
      "\n",
      "What is the smallest positive number that is evenly divisible by all of the numbers from 1 to 20?"
     ]
    },
    {
     "cell_type": "code",
     "collapsed": false,
     "input": [
      "#Test case\n",
      "n = 1  #Initial value for the number to test\n",
      "condition = True  \n",
      "while condition:\n",
      "    if n % 6 == 0 and n % 7 == 0 and n % 8 == 0 and n % 9 == 0 and n % 10 == 0:\n",
      "        #^---Checks if the number is evenly divisable by the numbers 6-10. If it is divisible by 9, it is also divisible by 3. If it is divisible by 8, it is also divisible by 4 and 2. \n",
      "        condition = False  #Ends the while loop\n",
      "        print n  #Prints the answer\n",
      "    else:\n",
      "        n += 1  #Adds 1 to the number and tries again"
     ],
     "language": "python",
     "metadata": {},
     "outputs": [
      {
       "output_type": "stream",
       "stream": "stdout",
       "text": [
        "2520\n"
       ]
      }
     ],
     "prompt_number": 13
    },
    {
     "cell_type": "code",
     "collapsed": false,
     "input": [
      "n = 2520  #We can start at this value because we already know it is evenly divisible by 1-10 so the number we are looking for will be a multiple of this number\n",
      "condition = True  \n",
      "while condition:\n",
      "    if n % 11 == 0 and n % 12 == 0 and n % 13 == 0 and n % 14 == 0 and n % 16 == 0 and n % 17 == 0 and n % 18 == 0 and n % 19 == 0 and n % 20 == 0:\n",
      "        #^---Checks if the number is evenly divisible by the numbers 1-20\n",
      "        condition = False  #Ends the while loop\n",
      "        print n  #Prints the answer\n",
      "    else:\n",
      "        n += 2520  #Adds 2520 to the number and tries again\n",
      "        "
     ],
     "language": "python",
     "metadata": {},
     "outputs": [
      {
       "output_type": "stream",
       "stream": "stdout",
       "text": [
        "232792560\n"
       ]
      }
     ],
     "prompt_number": 29
    },
    {
     "cell_type": "markdown",
     "metadata": {},
     "source": [
      "The smallest number evenly divisible by the numbers 1-20 is 232,792,560."
     ]
    },
    {
     "cell_type": "code",
     "collapsed": false,
     "input": [],
     "language": "python",
     "metadata": {},
     "outputs": []
    }
   ],
   "metadata": {}
  }
 ]
}