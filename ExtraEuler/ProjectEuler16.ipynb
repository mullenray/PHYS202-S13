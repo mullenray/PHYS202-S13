{
 "metadata": {
  "name": "ProjectEuler16"
 },
 "nbformat": 3,
 "nbformat_minor": 0,
 "worksheets": [
  {
   "cells": [
    {
     "cell_type": "markdown",
     "metadata": {},
     "source": [
      "Power digit sum\n",
      "===============\n",
      "Problem 16\n",
      "----------\n",
      "\n",
      "$2$$^{15}$ $=$ $32768$ and the sum of its digits is $3$ $+$ $2$ $+$ $7$ $+$ $6$ $+$ $8$ $=$ $26$.\n",
      "\n",
      "What is the sum of the digits of the number $2$$^{1000}$?"
     ]
    },
    {
     "cell_type": "code",
     "collapsed": false,
     "input": [
      "x = 2**15\n",
      "digsum = 0\n",
      "for i in str(x):\n",
      "    digsum += int(i)\n",
      "print digsum"
     ],
     "language": "python",
     "metadata": {},
     "outputs": [
      {
       "output_type": "stream",
       "stream": "stdout",
       "text": [
        "26\n"
       ]
      }
     ],
     "prompt_number": 6
    },
    {
     "cell_type": "markdown",
     "metadata": {},
     "source": [
      "Test Case Above: using the number given in the problem, the answer is correct."
     ]
    },
    {
     "cell_type": "code",
     "collapsed": false,
     "input": [
      "x = 2**1000   #The long number whose digit sum we want to calculate \n",
      "digsum = 0    #Initial value for the digit sum\n",
      "for i in str(x):   #Convert the number x into a string and take each digit in that string\n",
      "    digsum += int(i)   #Change the form of the digit taken (formerly a string) back into an integer and add it to a running total\n",
      "print digsum  #Print the final answer"
     ],
     "language": "python",
     "metadata": {},
     "outputs": [
      {
       "output_type": "stream",
       "stream": "stdout",
       "text": [
        "1366\n"
       ]
      }
     ],
     "prompt_number": 7
    },
    {
     "cell_type": "markdown",
     "metadata": {},
     "source": [
      "If you add all the digits together in the number $2^{1000}$, the sum is $1366$."
     ]
    },
    {
     "cell_type": "code",
     "collapsed": false,
     "input": [],
     "language": "python",
     "metadata": {},
     "outputs": []
    }
   ],
   "metadata": {}
  }
 ]
}