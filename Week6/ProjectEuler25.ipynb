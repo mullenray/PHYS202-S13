{
 "metadata": {
  "name": "ProjectEuler25"
 },
 "nbformat": 3,
 "nbformat_minor": 0,
 "worksheets": [
  {
   "cells": [
    {
     "cell_type": "markdown",
     "metadata": {},
     "source": [
      "1000-digit Fibonacci Number\n",
      "=\n",
      "Problem 25\n",
      "-\n",
      "The Fibonacci sequence is defined by the recurrence relation:\n",
      "\n",
      ">$F_n = F_{n-1} + F_{n-2}$, where $F_1 = 1$ and $F_2 = 1$.\n",
      "\n",
      "Hence the first 12 terms will be:\n",
      "\n",
      ">$F_1 = 1$\n",
      "\n",
      ">$F_2 = 1$\n",
      "\n",
      ">$F_3 = 2$\n",
      "\n",
      ">$F_4 = 3$\n",
      "\n",
      ">$F_5 = 5$\n",
      "\n",
      ">$F_6 = 8$\n",
      "\n",
      ">$F_7 = 13$\n",
      "\n",
      ">$F_8 = 21$\n",
      "\n",
      ">$F_9 = 34$\n",
      "\n",
      ">$F_{10} = 55$\n",
      "\n",
      ">$F_{11} = 89$\n",
      "\n",
      ">$F_{12} = 144$\n",
      "\n",
      "The 12th term, $F_{12}$, is the first term to contain three digits.\n",
      "\n",
      "What is the first term in the Fibonacci sequence to contain 1000 digits?"
     ]
    },
    {
     "cell_type": "code",
     "collapsed": false,
     "input": [
      "#Test Case\n",
      "prev = 1  #Setting F_{n-1}\n",
      "prev2 = 1 #Setting F_{n-2}\n",
      "current = 2  #Starting value for Fibonacci sequence\n",
      "n = 2     #Used to keep track of Fibonacci term   \n",
      "diglim = 3  #The number of digits we want to check for\n",
      "\n",
      "while len(str(current)) < diglim:    #Only executes while the length(number of digits) of the current Fibonacci value is less than 3\n",
      "    current = prev + prev2  #Calculating new Fibonacci value\n",
      "    prev2 = prev  #Redefining prev2 with prev\n",
      "    prev = current  #Redefining prev with the new Fibonacci value\n",
      "    n += 1  #incrementing n\n",
      "    \n",
      "print n"
     ],
     "language": "python",
     "metadata": {},
     "outputs": [
      {
       "output_type": "stream",
       "stream": "stdout",
       "text": [
        "12\n"
       ]
      }
     ],
     "prompt_number": 19
    },
    {
     "cell_type": "markdown",
     "metadata": {},
     "source": [
      "The test case agress with the information given in the problem: that the 12th term (n) is the first term with 3 digits (diglim)."
     ]
    },
    {
     "cell_type": "code",
     "collapsed": false,
     "input": [
      "prev = 1  #Setting F_{n-1}\n",
      "prev2 = 1 #Setting F_{n-2}\n",
      "current = 2  #Starting value for Fibonacci sequence\n",
      "n = 2     #Used to keep track of Fibonacci term   \n",
      "diglim = 1000  #The number of digits we want to check for\n",
      "\n",
      "while len(str(current)) < diglim:    #Only executes while the length(number of digits) of the current Fibonacci value is less than 1000\n",
      "    current = prev + prev2  #Calculating new Fibonacci value\n",
      "    prev2 = prev  #Redefining prev2 with prev\n",
      "    prev = current  #Redefining prev with the new Fibonacci value\n",
      "    n += 1  #incrementing n\n",
      "    \n",
      "print n"
     ],
     "language": "python",
     "metadata": {},
     "outputs": [
      {
       "output_type": "stream",
       "stream": "stdout",
       "text": [
        "4782\n"
       ]
      }
     ],
     "prompt_number": 20
    },
    {
     "cell_type": "markdown",
     "metadata": {},
     "source": [
      "The $4782^{th}$ term of the Fibonacci sequence is the first term to have 1000 digits."
     ]
    },
    {
     "cell_type": "code",
     "collapsed": false,
     "input": [],
     "language": "python",
     "metadata": {},
     "outputs": []
    }
   ],
   "metadata": {}
  }
 ]
}